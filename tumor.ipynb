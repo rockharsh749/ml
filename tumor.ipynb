{
 "cells": [
  {
   "cell_type": "code",
   "execution_count": 3,
   "metadata": {},
   "outputs": [
    {
     "data": {
      "text/plain": [
       "array([[0.60749168],\n",
       "       [0.19267555],\n",
       "       [0.12774788],\n",
       "       [0.00955056],\n",
       "       [0.08037781],\n",
       "       [0.0734485 ],\n",
       "       [0.88362857],\n",
       "       [0.77901203],\n",
       "       [0.88924534],\n",
       "       [0.81293431],\n",
       "       [0.57718238],\n",
       "       [0.96664398]])"
      ]
     },
     "execution_count": 3,
     "metadata": {},
     "output_type": "execute_result"
    }
   ],
   "source": [
    "import numpy as np\n",
    "from sklearn import linear_model\n",
    "\n",
    "X = np.array([3.78, 2.44, 2.09, 0.14, 1.72, 1.65, 4.92, 4.37, 4.96, 4.52, 3.69, 5.88]).reshape(-1,1)\n",
    "y = np.array([0, 0, 0, 0, 0, 0, 1, 1, 1, 1, 1, 1])\n",
    "\n",
    "logr=linear_model.LogisticRegression()\n",
    "logr.fit(X,y)\n",
    "\n",
    "def logrprob(logr,X):\n",
    "    log_odds=logr.coef_*X+logr.intercept_\n",
    "    odds=np.exp(log_odds)\n",
    "    prob=odds/(odds+1)\n",
    "    return prob\n",
    "\n",
    "logrprob(logr,X)\n"
   ]
  },
  {
   "cell_type": "code",
   "execution_count": 4,
   "metadata": {},
   "outputs": [
    {
     "name": "stdout",
     "output_type": "stream",
     "text": [
      "The probability that a tumor with the size 3.78cm is cancerous is 61%. (Cancerous class)\n",
      "The probability that a tumor with the size 2.44cm is cancerous is 81%. (NON cancerous class)\n",
      "The probability that a tumor with the size 4.96cm is cancerous is 89%. (Cancerous class)\n"
     ]
    }
   ],
   "source": [
    "tumor_sizes = [3.78, 2.44, 4.96]\n",
    "for size in tumor_sizes:\n",
    "    prob = logrprob(logr, np.array([[size]]))[0][0] # Accessing the probability from the returned array\n",
    "    if prob < 0.5:\n",
    "        print(f\"The probability that a tumor with the size {size}cm is cancerous is {100 - prob * 100:.0f}%. (NON cancerous class)\")\n",
    "    else:\n",
    "        print(f\"The probability that a tumor with the size {size}cm is cancerous is {prob * 100:.0f}%. (Cancerous class)\")"
   ]
  }
 ],
 "metadata": {
  "kernelspec": {
   "display_name": "Python 3",
   "language": "python",
   "name": "python3"
  },
  "language_info": {
   "codemirror_mode": {
    "name": "ipython",
    "version": 3
   },
   "file_extension": ".py",
   "mimetype": "text/x-python",
   "name": "python",
   "nbconvert_exporter": "python",
   "pygments_lexer": "ipython3",
   "version": "3.10.0"
  }
 },
 "nbformat": 4,
 "nbformat_minor": 2
}
