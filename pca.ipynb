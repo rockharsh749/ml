{
 "cells": [
  {
   "cell_type": "code",
   "execution_count": 2,
   "metadata": {},
   "outputs": [
    {
     "name": "stdout",
     "output_type": "stream",
     "text": [
      "Dimensions of training dataset before PCA: (1437, 64)\n",
      "Dimensions of testing dataset before PCA: (360, 64)\n",
      "Dimensions of training dataset after PCA: (1437, 28)\n",
      "Dimensions of testing dataset after PCA: (360, 28)\n"
     ]
    }
   ],
   "source": [
    "\n",
    "from sklearn.datasets import load_digits\n",
    "from sklearn.model_selection import train_test_split\n",
    "from sklearn.decomposition import PCA\n",
    "\n",
    "# Load the digits dataset\n",
    "digits = load_digits()\n",
    "\n",
    "# Split the data into input (X) and output (y)\n",
    "X = digits.data\n",
    "y = digits.target\n",
    "\n",
    "# Split the dataset into training and testing sets (80% for training)\n",
    "X_train, X_test, y_train, y_test = train_test_split(X, y, test_size=0.2, random_state=42)\n",
    "\n",
    "# Apply Principal Component Analysis (PCA) for dimensionality reduction\n",
    "# Initialize PCA and specify the desired explained variance ratio (95%)\n",
    "pca = PCA(n_components=0.95)\n",
    "\n",
    "# Fit PCA on the training data and transform both training and testing data\n",
    "X_train_pca = pca.fit_transform(X_train)\n",
    "X_test_pca = pca.transform(X_test)\n",
    "\n",
    "# Print the dimensions of training and testing datasets before and after PCA\n",
    "print(\"Dimensions of training dataset before PCA:\", X_train.shape)\n",
    "print(\"Dimensions of testing dataset before PCA:\", X_test.shape)\n",
    "print(\"Dimensions of training dataset after PCA:\", X_train_pca.shape)\n",
    "print(\"Dimensions of testing dataset after PCA:\", X_test_pca.shape)"
   ]
  }
 ],
 "metadata": {
  "kernelspec": {
   "display_name": "Python 3",
   "language": "python",
   "name": "python3"
  },
  "language_info": {
   "codemirror_mode": {
    "name": "ipython",
    "version": 3
   },
   "file_extension": ".py",
   "mimetype": "text/x-python",
   "name": "python",
   "nbconvert_exporter": "python",
   "pygments_lexer": "ipython3",
   "version": "3.10.0"
  }
 },
 "nbformat": 4,
 "nbformat_minor": 2
}
